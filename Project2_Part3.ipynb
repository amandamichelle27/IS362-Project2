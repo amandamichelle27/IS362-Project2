{
 "cells": [
  {
   "cell_type": "markdown",
   "metadata": {},
   "source": [
    "The third set of data we'll look was posted by Neil and details a baseball card collection and contains information on each card such as player name, position, year, and condition of the card."
   ]
  },
  {
   "cell_type": "code",
   "execution_count": 3,
   "metadata": {},
   "outputs": [
    {
     "data": {
      "text/html": [
       "<div>\n",
       "<style>\n",
       "    .dataframe thead tr:only-child th {\n",
       "        text-align: right;\n",
       "    }\n",
       "\n",
       "    .dataframe thead th {\n",
       "        text-align: left;\n",
       "    }\n",
       "\n",
       "    .dataframe tbody tr th {\n",
       "        vertical-align: top;\n",
       "    }\n",
       "</style>\n",
       "<table border=\"1\" class=\"dataframe\">\n",
       "  <thead>\n",
       "    <tr style=\"text-align: right;\">\n",
       "      <th></th>\n",
       "      <th>UID</th>\n",
       "      <th>PLAYER</th>\n",
       "      <th>POSITION</th>\n",
       "      <th>BRAND</th>\n",
       "      <th>CID</th>\n",
       "      <th>YEAR</th>\n",
       "      <th>CONDITION</th>\n",
       "      <th>SOLD</th>\n",
       "      <th>VALUE</th>\n",
       "    </tr>\n",
       "  </thead>\n",
       "  <tbody>\n",
       "    <tr>\n",
       "      <th>0</th>\n",
       "      <td>1</td>\n",
       "      <td>Tom Lasorda</td>\n",
       "      <td>MGR</td>\n",
       "      <td>Topps</td>\n",
       "      <td>254</td>\n",
       "      <td>1989</td>\n",
       "      <td>GOOD</td>\n",
       "      <td>NaN</td>\n",
       "      <td>NaN</td>\n",
       "    </tr>\n",
       "    <tr>\n",
       "      <th>1</th>\n",
       "      <td>2</td>\n",
       "      <td>Sparky Anderson</td>\n",
       "      <td>MGR</td>\n",
       "      <td>Topps</td>\n",
       "      <td>609</td>\n",
       "      <td>1990</td>\n",
       "      <td>EXCELLENT</td>\n",
       "      <td>NaN</td>\n",
       "      <td>NaN</td>\n",
       "    </tr>\n",
       "    <tr>\n",
       "      <th>2</th>\n",
       "      <td>3</td>\n",
       "      <td>Jose DeLeon</td>\n",
       "      <td>P</td>\n",
       "      <td>Topps</td>\n",
       "      <td>85</td>\n",
       "      <td>1992</td>\n",
       "      <td>EXCELLENT</td>\n",
       "      <td>NaN</td>\n",
       "      <td>NaN</td>\n",
       "    </tr>\n",
       "    <tr>\n",
       "      <th>3</th>\n",
       "      <td>4</td>\n",
       "      <td>Cris Carpenter</td>\n",
       "      <td>P</td>\n",
       "      <td>Topps</td>\n",
       "      <td>147</td>\n",
       "      <td>1992</td>\n",
       "      <td>EXCELLENT</td>\n",
       "      <td>NaN</td>\n",
       "      <td>NaN</td>\n",
       "    </tr>\n",
       "    <tr>\n",
       "      <th>4</th>\n",
       "      <td>5</td>\n",
       "      <td>RJ Reynolds</td>\n",
       "      <td>RF</td>\n",
       "      <td>Score</td>\n",
       "      <td>273</td>\n",
       "      <td>1991</td>\n",
       "      <td>EXCELLENT</td>\n",
       "      <td>NaN</td>\n",
       "      <td>NaN</td>\n",
       "    </tr>\n",
       "  </tbody>\n",
       "</table>\n",
       "</div>"
      ],
      "text/plain": [
       "   UID           PLAYER POSITION  BRAND  CID  YEAR  CONDITION  SOLD  VALUE\n",
       "0    1      Tom Lasorda      MGR  Topps  254  1989       GOOD   NaN    NaN\n",
       "1    2  Sparky Anderson      MGR  Topps  609  1990  EXCELLENT   NaN    NaN\n",
       "2    3      Jose DeLeon        P  Topps   85  1992  EXCELLENT   NaN    NaN\n",
       "3    4   Cris Carpenter        P  Topps  147  1992  EXCELLENT   NaN    NaN\n",
       "4    5      RJ Reynolds       RF  Score  273  1991  EXCELLENT   NaN    NaN"
      ]
     },
     "execution_count": 3,
     "metadata": {},
     "output_type": "execute_result"
    }
   ],
   "source": [
    "import pandas as pd\n",
    "df = pd.read_csv(\"https://raw.githubusercontent.com/neal-rogers/baseball-card-inventory/2a14350e7b11e5fdb43ca877db4c17a8a9b15e4e/data/cards.csv\")\n",
    "df.head()"
   ]
  },
  {
   "cell_type": "markdown",
   "metadata": {},
   "source": [
    "First we will check for any missing values that might hinder accessment of any kind."
   ]
  },
  {
   "cell_type": "code",
   "execution_count": 5,
   "metadata": {},
   "outputs": [
    {
     "data": {
      "text/plain": [
       "UID            0\n",
       "PLAYER         0\n",
       "POSITION       0\n",
       "BRAND          0\n",
       "CID            0\n",
       "YEAR           0\n",
       "CONDITION      0\n",
       "SOLD         198\n",
       "VALUE        198\n",
       "dtype: int64"
      ]
     },
     "execution_count": 5,
     "metadata": {},
     "output_type": "execute_result"
    }
   ],
   "source": [
    "df.isnull().sum()"
   ]
  },
  {
   "cell_type": "code",
   "execution_count": 7,
   "metadata": {},
   "outputs": [
    {
     "data": {
      "text/plain": [
       "(198, 9)"
      ]
     },
     "execution_count": 7,
     "metadata": {},
     "output_type": "execute_result"
    }
   ],
   "source": [
    "df.shape"
   ]
  },
  {
   "cell_type": "markdown",
   "metadata": {},
   "source": [
    "From here we see that neither the \"Sold\" or \"Value\" colum has any entries at all. Although we don't need to get rid of the colums for computing purposes, since we are cleaning up the data we will go ahead and get rid of those. "
   ]
  },
  {
   "cell_type": "code",
   "execution_count": 8,
   "metadata": {},
   "outputs": [
    {
     "data": {
      "text/html": [
       "<div>\n",
       "<style>\n",
       "    .dataframe thead tr:only-child th {\n",
       "        text-align: right;\n",
       "    }\n",
       "\n",
       "    .dataframe thead th {\n",
       "        text-align: left;\n",
       "    }\n",
       "\n",
       "    .dataframe tbody tr th {\n",
       "        vertical-align: top;\n",
       "    }\n",
       "</style>\n",
       "<table border=\"1\" class=\"dataframe\">\n",
       "  <thead>\n",
       "    <tr style=\"text-align: right;\">\n",
       "      <th></th>\n",
       "      <th>UID</th>\n",
       "      <th>PLAYER</th>\n",
       "      <th>POSITION</th>\n",
       "      <th>BRAND</th>\n",
       "      <th>CID</th>\n",
       "      <th>YEAR</th>\n",
       "      <th>CONDITION</th>\n",
       "    </tr>\n",
       "  </thead>\n",
       "  <tbody>\n",
       "    <tr>\n",
       "      <th>0</th>\n",
       "      <td>1</td>\n",
       "      <td>Tom Lasorda</td>\n",
       "      <td>MGR</td>\n",
       "      <td>Topps</td>\n",
       "      <td>254</td>\n",
       "      <td>1989</td>\n",
       "      <td>GOOD</td>\n",
       "    </tr>\n",
       "    <tr>\n",
       "      <th>1</th>\n",
       "      <td>2</td>\n",
       "      <td>Sparky Anderson</td>\n",
       "      <td>MGR</td>\n",
       "      <td>Topps</td>\n",
       "      <td>609</td>\n",
       "      <td>1990</td>\n",
       "      <td>EXCELLENT</td>\n",
       "    </tr>\n",
       "    <tr>\n",
       "      <th>2</th>\n",
       "      <td>3</td>\n",
       "      <td>Jose DeLeon</td>\n",
       "      <td>P</td>\n",
       "      <td>Topps</td>\n",
       "      <td>85</td>\n",
       "      <td>1992</td>\n",
       "      <td>EXCELLENT</td>\n",
       "    </tr>\n",
       "    <tr>\n",
       "      <th>3</th>\n",
       "      <td>4</td>\n",
       "      <td>Cris Carpenter</td>\n",
       "      <td>P</td>\n",
       "      <td>Topps</td>\n",
       "      <td>147</td>\n",
       "      <td>1992</td>\n",
       "      <td>EXCELLENT</td>\n",
       "    </tr>\n",
       "    <tr>\n",
       "      <th>4</th>\n",
       "      <td>5</td>\n",
       "      <td>RJ Reynolds</td>\n",
       "      <td>RF</td>\n",
       "      <td>Score</td>\n",
       "      <td>273</td>\n",
       "      <td>1991</td>\n",
       "      <td>EXCELLENT</td>\n",
       "    </tr>\n",
       "  </tbody>\n",
       "</table>\n",
       "</div>"
      ],
      "text/plain": [
       "   UID           PLAYER POSITION  BRAND  CID  YEAR  CONDITION\n",
       "0    1      Tom Lasorda      MGR  Topps  254  1989       GOOD\n",
       "1    2  Sparky Anderson      MGR  Topps  609  1990  EXCELLENT\n",
       "2    3      Jose DeLeon        P  Topps   85  1992  EXCELLENT\n",
       "3    4   Cris Carpenter        P  Topps  147  1992  EXCELLENT\n",
       "4    5      RJ Reynolds       RF  Score  273  1991  EXCELLENT"
      ]
     },
     "execution_count": 8,
     "metadata": {},
     "output_type": "execute_result"
    }
   ],
   "source": [
    "df.drop([\"SOLD\", \"VALUE\"], axis=1, inplace=True)\n",
    "df.head()"
   ]
  },
  {
   "cell_type": "markdown",
   "metadata": {},
   "source": [
    "Now that the unnecessary colums are gone and the data is a bit more tidy, we'll look at finding the number of unique player positions in the collections. "
   ]
  },
  {
   "cell_type": "code",
   "execution_count": 10,
   "metadata": {},
   "outputs": [
    {
     "data": {
      "text/plain": [
       "array(['MGR', 'P', 'RF', 'C', 'OF', '2B', 'SS', '1B', 'SS-2B', '3B',\n",
       "       'OF-DH', 'OF-1B', '2B-SS', 'CF', 'IF', 'RP', 'IF-OF', '3B-SS',\n",
       "       '2B-OF', '2B-3B', '1B-OF', '1B-3B'], dtype=object)"
      ]
     },
     "execution_count": 10,
     "metadata": {},
     "output_type": "execute_result"
    }
   ],
   "source": [
    "df[\"POSITION\"].unique()"
   ]
  },
  {
   "cell_type": "code",
   "execution_count": 14,
   "metadata": {},
   "outputs": [
    {
     "data": {
      "text/plain": [
       "22"
      ]
     },
     "execution_count": 14,
     "metadata": {},
     "output_type": "execute_result"
    }
   ],
   "source": [
    "df[\"POSITION\"].unique().size"
   ]
  },
  {
   "cell_type": "markdown",
   "metadata": {},
   "source": [
    "We don't have any duplicates, so our total of unique positions is 22. Next we can look at which postition in the collection is most common."
   ]
  },
  {
   "cell_type": "code",
   "execution_count": 11,
   "metadata": {},
   "outputs": [
    {
     "data": {
      "text/plain": [
       "POSITION\n",
       "1B        2\n",
       "1B-3B     2\n",
       "1B-OF     2\n",
       "2B        8\n",
       "2B-3B     1\n",
       "2B-OF     1\n",
       "2B-SS     1\n",
       "3B       10\n",
       "3B-SS     2\n",
       "C        11\n",
       "CF        2\n",
       "IF        1\n",
       "IF-OF     1\n",
       "MGR      11\n",
       "OF       36\n",
       "OF-1B     3\n",
       "OF-DH     1\n",
       "P        85\n",
       "RF        1\n",
       "RP        2\n",
       "SS       13\n",
       "SS-2B     2\n",
       "Name: POSITION, dtype: int64"
      ]
     },
     "execution_count": 11,
     "metadata": {},
     "output_type": "execute_result"
    }
   ],
   "source": [
    "df.groupby(\"POSITION\")[\"POSITION\"].count()"
   ]
  },
  {
   "cell_type": "markdown",
   "metadata": {},
   "source": [
    "This presents us with the number of cards that have each postion in the collection. In this collection, the most common position is \"P\" or Pitcher. \n",
    "\n",
    "Another thing we can do is check to see if the collection has any duplicate cards."
   ]
  },
  {
   "cell_type": "code",
   "execution_count": 21,
   "metadata": {},
   "outputs": [
    {
     "data": {
      "text/plain": [
       "0"
      ]
     },
     "execution_count": 21,
     "metadata": {},
     "output_type": "execute_result"
    }
   ],
   "source": [
    "df.duplicated().sum()"
   ]
  },
  {
   "cell_type": "code",
   "execution_count": null,
   "metadata": {
    "collapsed": true
   },
   "outputs": [],
   "source": [
    "To be a collection of baseball cards, surprisingly there are no duplicates. "
   ]
  }
 ],
 "metadata": {
  "kernelspec": {
   "display_name": "Python 3",
   "language": "python",
   "name": "python3"
  },
  "language_info": {
   "codemirror_mode": {
    "name": "ipython",
    "version": 3
   },
   "file_extension": ".py",
   "mimetype": "text/x-python",
   "name": "python",
   "nbconvert_exporter": "python",
   "pygments_lexer": "ipython3",
   "version": "3.6.3"
  }
 },
 "nbformat": 4,
 "nbformat_minor": 2
}
