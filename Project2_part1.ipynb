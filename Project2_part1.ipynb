{
 "cells": [
  {
   "cell_type": "markdown",
   "metadata": {},
   "source": [
    "The first data set we'll work on is the recorded videoed behaviors of female polar bears in the around the Beaufort Sea."
   ]
  },
  {
   "cell_type": "code",
   "execution_count": 48,
   "metadata": {},
   "outputs": [
    {
     "data": {
      "text/html": [
       "<div>\n",
       "<style>\n",
       "    .dataframe thead tr:only-child th {\n",
       "        text-align: right;\n",
       "    }\n",
       "\n",
       "    .dataframe thead th {\n",
       "        text-align: left;\n",
       "    }\n",
       "\n",
       "    .dataframe tbody tr th {\n",
       "        vertical-align: top;\n",
       "    }\n",
       "</style>\n",
       "<table border=\"1\" class=\"dataframe\">\n",
       "  <thead>\n",
       "    <tr style=\"text-align: right;\">\n",
       "      <th></th>\n",
       "      <th>Bear</th>\n",
       "      <th>Datetime_behavior_starts</th>\n",
       "      <th>Datetime_behavior_ends</th>\n",
       "      <th>Behavior</th>\n",
       "      <th>Comments</th>\n",
       "    </tr>\n",
       "  </thead>\n",
       "  <tbody>\n",
       "    <tr>\n",
       "      <th>0</th>\n",
       "      <td>1</td>\n",
       "      <td>4/7/2014 16:00:22</td>\n",
       "      <td>4/7/2014 16:01:12</td>\n",
       "      <td>laying</td>\n",
       "      <td>moving head</td>\n",
       "    </tr>\n",
       "    <tr>\n",
       "      <th>1</th>\n",
       "      <td>1</td>\n",
       "      <td>4/7/2014 17:49:07</td>\n",
       "      <td>4/7/2014 17:49:57</td>\n",
       "      <td>rolling in snow</td>\n",
       "      <td>shaking head, adult male present in distance</td>\n",
       "    </tr>\n",
       "    <tr>\n",
       "      <th>2</th>\n",
       "      <td>1</td>\n",
       "      <td>4/7/2014 17:50:53</td>\n",
       "      <td>4/7/2014 17:51:31</td>\n",
       "      <td>rolling in snow</td>\n",
       "      <td>shaking head, adult male present in distance</td>\n",
       "    </tr>\n",
       "    <tr>\n",
       "      <th>3</th>\n",
       "      <td>1</td>\n",
       "      <td>4/7/2014 17:51:31</td>\n",
       "      <td>4/7/2014 17:51:53</td>\n",
       "      <td>walking</td>\n",
       "      <td>through rubble (away from adult male)</td>\n",
       "    </tr>\n",
       "    <tr>\n",
       "      <th>4</th>\n",
       "      <td>1</td>\n",
       "      <td>4/7/2014 17:52:53</td>\n",
       "      <td>4/7/2014 17:53:53</td>\n",
       "      <td>sitting or standing</td>\n",
       "      <td>NaN</td>\n",
       "    </tr>\n",
       "  </tbody>\n",
       "</table>\n",
       "</div>"
      ],
      "text/plain": [
       "   Bear Datetime_behavior_starts Datetime_behavior_ends             Behavior  \\\n",
       "0     1        4/7/2014 16:00:22      4/7/2014 16:01:12               laying   \n",
       "1     1        4/7/2014 17:49:07      4/7/2014 17:49:57      rolling in snow   \n",
       "2     1        4/7/2014 17:50:53      4/7/2014 17:51:31      rolling in snow   \n",
       "3     1        4/7/2014 17:51:31      4/7/2014 17:51:53              walking   \n",
       "4     1        4/7/2014 17:52:53      4/7/2014 17:53:53  sitting or standing   \n",
       "\n",
       "                                       Comments  \n",
       "0                                   moving head  \n",
       "1  shaking head, adult male present in distance  \n",
       "2  shaking head, adult male present in distance  \n",
       "3         through rubble (away from adult male)  \n",
       "4                                           NaN  "
      ]
     },
     "execution_count": 48,
     "metadata": {},
     "output_type": "execute_result"
    }
   ],
   "source": [
    "import pandas as pd\n",
    "df = pd.read_csv('https://raw.githubusercontent.com/amandamichelle27/IS362-Project2/master/PolarBear_video-derived_behaviors_southernBeaufortSea_2014_2016_revised.csv')\n",
    "df.head()"
   ]
  },
  {
   "cell_type": "markdown",
   "metadata": {},
   "source": [
    "First, I will check to see if any data is missing and access if there is missing data, if it is important. I will do that by using .isnull"
   ]
  },
  {
   "cell_type": "code",
   "execution_count": 49,
   "metadata": {},
   "outputs": [
    {
     "data": {
      "text/plain": [
       "Bear                            0\n",
       "Datetime_behavior_starts        0\n",
       "Datetime_behavior_ends          0\n",
       "Behavior                        0\n",
       "Comments                    18860\n",
       "dtype: int64"
      ]
     },
     "execution_count": 49,
     "metadata": {},
     "output_type": "execute_result"
    }
   ],
   "source": [
    "df.isnull().sum()"
   ]
  },
  {
   "cell_type": "markdown",
   "metadata": {},
   "source": [
    "Missing comments is not necessarily a bad thing for data, so next I will look at all of the different types of unique entries in the behavior colum. "
   ]
  },
  {
   "cell_type": "code",
   "execution_count": 50,
   "metadata": {},
   "outputs": [
    {
     "data": {
      "text/plain": [
       "array(['laying', 'rolling in snow', 'walking', 'sitting or standing',\n",
       "       'mixed', 'interacting', 'standing', 'running',\n",
       "       'running and walking', 'sitting or laying', 'eating snow',\n",
       "       'grooming', 'digging', 'unknown', 'adjusting', 'head shake',\n",
       "       'pouncing', 'breaking into liar', 'smelling snow', 'catches seal',\n",
       "       'carrying carcass', 'eating', 'swimming', 'standing ', 'breeding',\n",
       "       'jumping', 'crawling through ice cavern',\n",
       "       'sticking head out of water', 'sticking head into water',\n",
       "       'moving ice', 'hauling out of water', 'rubbing', 'standing up',\n",
       "       'biting seal'], dtype=object)"
      ]
     },
     "execution_count": 50,
     "metadata": {},
     "output_type": "execute_result"
    }
   ],
   "source": [
    "df[\"Behavior\"].unique()"
   ]
  },
  {
   "cell_type": "markdown",
   "metadata": {},
   "source": [
    "Here we learn a few different things. First we see that one of the entry types under behaviour is \"unkown\", essentially missing data. We also see that there are entries that are basically repeats such as \"standing\", \"standing \", and \"sitting or standing\". \n",
    "\n",
    "Our next step will be to anyalyze the \"unkown\" entries, to see if the data is usable or not. If not we will get rid of it. "
   ]
  },
  {
   "cell_type": "code",
   "execution_count": 51,
   "metadata": {},
   "outputs": [
    {
     "data": {
      "text/html": [
       "<div>\n",
       "<style>\n",
       "    .dataframe thead tr:only-child th {\n",
       "        text-align: right;\n",
       "    }\n",
       "\n",
       "    .dataframe thead th {\n",
       "        text-align: left;\n",
       "    }\n",
       "\n",
       "    .dataframe tbody tr th {\n",
       "        vertical-align: top;\n",
       "    }\n",
       "</style>\n",
       "<table border=\"1\" class=\"dataframe\">\n",
       "  <thead>\n",
       "    <tr style=\"text-align: right;\">\n",
       "      <th></th>\n",
       "      <th>Bear</th>\n",
       "      <th>Datetime_behavior_starts</th>\n",
       "      <th>Datetime_behavior_ends</th>\n",
       "      <th>Behavior</th>\n",
       "      <th>Comments</th>\n",
       "    </tr>\n",
       "  </thead>\n",
       "  <tbody>\n",
       "    <tr>\n",
       "      <th>429</th>\n",
       "      <td>1</td>\n",
       "      <td>4/8/2014 19:02:23</td>\n",
       "      <td>4/8/2014 19:03:23</td>\n",
       "      <td>unknown</td>\n",
       "      <td>lens covered with snow/ice</td>\n",
       "    </tr>\n",
       "    <tr>\n",
       "      <th>470</th>\n",
       "      <td>1</td>\n",
       "      <td>4/8/2014 20:24:23</td>\n",
       "      <td>4/8/2014 20:25:23</td>\n",
       "      <td>unknown</td>\n",
       "      <td>adult male in view, head movement</td>\n",
       "    </tr>\n",
       "    <tr>\n",
       "      <th>505</th>\n",
       "      <td>1</td>\n",
       "      <td>4/8/2014 21:34:03</td>\n",
       "      <td>4/8/2014 21:34:33</td>\n",
       "      <td>unknown</td>\n",
       "      <td>likely grooming</td>\n",
       "    </tr>\n",
       "    <tr>\n",
       "      <th>520</th>\n",
       "      <td>1</td>\n",
       "      <td>4/8/2014 22:04:03</td>\n",
       "      <td>4/8/2014 22:04:33</td>\n",
       "      <td>unknown</td>\n",
       "      <td>NaN</td>\n",
       "    </tr>\n",
       "    <tr>\n",
       "      <th>554</th>\n",
       "      <td>1</td>\n",
       "      <td>4/8/2014 23:12:03</td>\n",
       "      <td>4/8/2014 23:12:33</td>\n",
       "      <td>unknown</td>\n",
       "      <td>NaN</td>\n",
       "    </tr>\n",
       "  </tbody>\n",
       "</table>\n",
       "</div>"
      ],
      "text/plain": [
       "     Bear Datetime_behavior_starts Datetime_behavior_ends Behavior  \\\n",
       "429     1        4/8/2014 19:02:23      4/8/2014 19:03:23  unknown   \n",
       "470     1        4/8/2014 20:24:23      4/8/2014 20:25:23  unknown   \n",
       "505     1        4/8/2014 21:34:03      4/8/2014 21:34:33  unknown   \n",
       "520     1        4/8/2014 22:04:03      4/8/2014 22:04:33  unknown   \n",
       "554     1        4/8/2014 23:12:03      4/8/2014 23:12:33  unknown   \n",
       "\n",
       "                              Comments  \n",
       "429         lens covered with snow/ice  \n",
       "470  adult male in view, head movement  \n",
       "505                    likely grooming  \n",
       "520                                NaN  \n",
       "554                                NaN  "
      ]
     },
     "execution_count": 51,
     "metadata": {},
     "output_type": "execute_result"
    }
   ],
   "source": [
    "df[df[\"Behavior\"] == \"unknown\"].head()"
   ]
  },
  {
   "cell_type": "markdown",
   "metadata": {},
   "source": [
    "We see that when the behavior entry is \"unkown\" the data is pretty much useless, so we will remove it."
   ]
  },
  {
   "cell_type": "code",
   "execution_count": 52,
   "metadata": {},
   "outputs": [],
   "source": [
    "df = df[df.Behavior != \"unkown\"]"
   ]
  },
  {
   "cell_type": "markdown",
   "metadata": {},
   "source": [
    "After we have removed the \"unkown\" entries, we now need to do some further cleaning up by changing all of the repeating entries into one entry form. For any entry that contains an \"or\" or an \"and\", the behavior entry will be changed to \"mixed\" instead. To fix the issue with \"standing\" vs \"standing \", any entry containing \"standing\" will be changed to \"standing\"."
   ]
  },
  {
   "cell_type": "code",
   "execution_count": 53,
   "metadata": {},
   "outputs": [
    {
     "data": {
      "text/plain": [
       "Behavior\n",
       "adjusting                       4163\n",
       "biting seal                        2\n",
       "breaking into liar                 4\n",
       "breeding                          54\n",
       "carrying carcass                  57\n",
       "catches seal                       2\n",
       "crawling through ice cavern        1\n",
       "digging                          715\n",
       "eating                           749\n",
       "eating snow                      248\n",
       "grooming                         542\n",
       "hauling out of water               1\n",
       "head shake                      1545\n",
       "interacting                      387\n",
       "jumping                           10\n",
       "laying                         15614\n",
       "mixed                           8893\n",
       "moving ice                         2\n",
       "pouncing                         190\n",
       "rolling in snow                  945\n",
       "rubbing                           34\n",
       "running                          257\n",
       "smelling snow                    383\n",
       "standing                          98\n",
       "sticking head into water           1\n",
       "sticking head out of water         2\n",
       "swimming                         279\n",
       "unknown                          914\n",
       "walking                         5906\n",
       "Name: Behavior, dtype: int64"
      ]
     },
     "execution_count": 53,
     "metadata": {},
     "output_type": "execute_result"
    }
   ],
   "source": [
    "def clean(behavior):\n",
    "    if \" or \" in behavior or \" and \" in behavior:\n",
    "        return \"mixed\"\n",
    "    if \"standing\" in behavior:\n",
    "        return \"standing\"\n",
    "    return behavior\n",
    "df.Behavior = df.Behavior.apply(clean)\n",
    "df.groupby(\"Behavior\")[\"Behavior\"].count()"
   ]
  },
  {
   "cell_type": "markdown",
   "metadata": {},
   "source": [
    "After the data has been cleaned, we have grouped the behaviors by entry and how counted how many times each unique entry was recorded within the data. By doing this it is easy to tell which behaviors were performed most often. "
   ]
  }
 ],
 "metadata": {
  "kernelspec": {
   "display_name": "Python 3",
   "language": "python",
   "name": "python3"
  },
  "language_info": {
   "codemirror_mode": {
    "name": "ipython",
    "version": 3
   },
   "file_extension": ".py",
   "mimetype": "text/x-python",
   "name": "python",
   "nbconvert_exporter": "python",
   "pygments_lexer": "ipython3",
   "version": "3.6.3"
  }
 },
 "nbformat": 4,
 "nbformat_minor": 2
}
